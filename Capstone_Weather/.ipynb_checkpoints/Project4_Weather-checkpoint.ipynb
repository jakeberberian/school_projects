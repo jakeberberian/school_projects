{
 "cells": [
  {
   "cell_type": "markdown",
   "metadata": {},
   "source": [
    "# Project 4: Weather Station Data"
   ]
  },
  {
   "cell_type": "markdown",
   "metadata": {},
   "source": [
    "Jake Berberian\n",
    "\n",
    "MATH-465: Numerical Analysis\n",
    "\n",
    "Data can be found at https://www.wunderground.com/dashboard/pws/KDCWASHI280/table/2020-11-30/2020-11-30/monthly"
   ]
  },
  {
   "cell_type": "code",
   "execution_count": 1,
   "metadata": {},
   "outputs": [],
   "source": [
    "import pandas as pd\n",
    "import matplotlib.pyplot as plt\n",
    "import seaborn as sns\n",
    "import warnings; warnings.filterwarnings('ignore')\n",
    "from sklearn import linear_model \n",
    "from sklearn.model_selection import train_test_split, cross_val_score, cross_val_predict"
   ]
  },
  {
   "cell_type": "code",
   "execution_count": 2,
   "metadata": {},
   "outputs": [],
   "source": [
    "# Set plot styles\n",
    "plt.style.use('ggplot')\n",
    "sns.set_theme(style=\"whitegrid\")"
   ]
  },
  {
   "cell_type": "markdown",
   "metadata": {},
   "source": [
    "## Data Import and Clean"
   ]
  },
  {
   "cell_type": "markdown",
   "metadata": {},
   "source": [
    "We'll start by reading in our personal weather station (PWS) data located in Glover Park, Washington, D.C. (20007). We're using September data to complement NOAA's available data. September is also an interesting month to study because it is generally considered an autumn month, but recently we've seen the average temperatures rising in the ninth month."
   ]
  },
  {
   "cell_type": "code",
   "execution_count": 3,
   "metadata": {},
   "outputs": [
    {
     "data": {
      "text/html": [
       "<div>\n",
       "<style scoped>\n",
       "    .dataframe tbody tr th:only-of-type {\n",
       "        vertical-align: middle;\n",
       "    }\n",
       "\n",
       "    .dataframe tbody tr th {\n",
       "        vertical-align: top;\n",
       "    }\n",
       "\n",
       "    .dataframe thead th {\n",
       "        text-align: right;\n",
       "    }\n",
       "</style>\n",
       "<table border=\"1\" class=\"dataframe\">\n",
       "  <thead>\n",
       "    <tr style=\"text-align: right;\">\n",
       "      <th></th>\n",
       "      <th>Date</th>\n",
       "      <th>temp_hi</th>\n",
       "      <th>temp_avg</th>\n",
       "      <th>temp_lo</th>\n",
       "      <th>hum_hi</th>\n",
       "      <th>hum_avg</th>\n",
       "      <th>hum_lo</th>\n",
       "      <th>press_hi</th>\n",
       "      <th>press_avg</th>\n",
       "    </tr>\n",
       "  </thead>\n",
       "  <tbody>\n",
       "    <tr>\n",
       "      <th>0</th>\n",
       "      <td>9/1/2020</td>\n",
       "      <td>84.0 F</td>\n",
       "      <td>72.7 F</td>\n",
       "      <td>65.8 F</td>\n",
       "      <td>99 %</td>\n",
       "      <td>89 %</td>\n",
       "      <td>68 %</td>\n",
       "      <td>29.93 in</td>\n",
       "      <td>29.85 in</td>\n",
       "    </tr>\n",
       "    <tr>\n",
       "      <th>1</th>\n",
       "      <td>9/2/2020</td>\n",
       "      <td>90.1 F</td>\n",
       "      <td>78.7 F</td>\n",
       "      <td>72.9 F</td>\n",
       "      <td>99 %</td>\n",
       "      <td>89 %</td>\n",
       "      <td>66 %</td>\n",
       "      <td>29.88 in</td>\n",
       "      <td>29.63 in</td>\n",
       "    </tr>\n",
       "    <tr>\n",
       "      <th>2</th>\n",
       "      <td>9/3/2020</td>\n",
       "      <td>93.0 F</td>\n",
       "      <td>80.5 F</td>\n",
       "      <td>72.7 F</td>\n",
       "      <td>99 %</td>\n",
       "      <td>86 %</td>\n",
       "      <td>56 %</td>\n",
       "      <td>29.74 in</td>\n",
       "      <td>29.55 in</td>\n",
       "    </tr>\n",
       "    <tr>\n",
       "      <th>3</th>\n",
       "      <td>9/4/2020</td>\n",
       "      <td>90.9 F</td>\n",
       "      <td>78.4 F</td>\n",
       "      <td>69.4 F</td>\n",
       "      <td>99 %</td>\n",
       "      <td>80 %</td>\n",
       "      <td>50 %</td>\n",
       "      <td>29.93 in</td>\n",
       "      <td>29.65 in</td>\n",
       "    </tr>\n",
       "    <tr>\n",
       "      <th>4</th>\n",
       "      <td>9/5/2020</td>\n",
       "      <td>82.0 F</td>\n",
       "      <td>71.5 F</td>\n",
       "      <td>60.4 F</td>\n",
       "      <td>95 %</td>\n",
       "      <td>63 %</td>\n",
       "      <td>35 %</td>\n",
       "      <td>30.12 in</td>\n",
       "      <td>29.92 in</td>\n",
       "    </tr>\n",
       "  </tbody>\n",
       "</table>\n",
       "</div>"
      ],
      "text/plain": [
       "       Date temp_hi temp_avg temp_lo hum_hi hum_avg hum_lo  press_hi press_avg\n",
       "0  9/1/2020  84.0 F   72.7 F  65.8 F   99 %    89 %   68 %  29.93 in  29.85 in\n",
       "1  9/2/2020  90.1 F   78.7 F  72.9 F   99 %    89 %   66 %  29.88 in  29.63 in\n",
       "2  9/3/2020  93.0 F   80.5 F  72.7 F   99 %    86 %   56 %  29.74 in  29.55 in\n",
       "3  9/4/2020  90.9 F   78.4 F  69.4 F   99 %    80 %   50 %  29.93 in  29.65 in\n",
       "4  9/5/2020  82.0 F   71.5 F  60.4 F   95 %    63 %   35 %  30.12 in  29.92 in"
      ]
     },
     "execution_count": 3,
     "metadata": {},
     "output_type": "execute_result"
    }
   ],
   "source": [
    "gp = pd.read_csv(\"weather_gloverpark.csv\")\n",
    "\n",
    "gp.head()"
   ]
  },
  {
   "cell_type": "code",
   "execution_count": 4,
   "metadata": {},
   "outputs": [
    {
     "data": {
      "text/html": [
       "<div>\n",
       "<style scoped>\n",
       "    .dataframe tbody tr th:only-of-type {\n",
       "        vertical-align: middle;\n",
       "    }\n",
       "\n",
       "    .dataframe tbody tr th {\n",
       "        vertical-align: top;\n",
       "    }\n",
       "\n",
       "    .dataframe thead th {\n",
       "        text-align: right;\n",
       "    }\n",
       "</style>\n",
       "<table border=\"1\" class=\"dataframe\">\n",
       "  <thead>\n",
       "    <tr style=\"text-align: right;\">\n",
       "      <th></th>\n",
       "      <th>Date</th>\n",
       "      <th>temp_hi</th>\n",
       "      <th>temp_avg</th>\n",
       "      <th>temp_lo</th>\n",
       "      <th>hum_hi</th>\n",
       "      <th>hum_avg</th>\n",
       "      <th>hum_lo</th>\n",
       "      <th>press_hi</th>\n",
       "      <th>press_avg</th>\n",
       "    </tr>\n",
       "  </thead>\n",
       "  <tbody>\n",
       "    <tr>\n",
       "      <th>25</th>\n",
       "      <td>9/26/2020</td>\n",
       "      <td>71.4 F</td>\n",
       "      <td>65.3 F</td>\n",
       "      <td>61.0 F</td>\n",
       "      <td>99 %</td>\n",
       "      <td>96 %</td>\n",
       "      <td>84 %</td>\n",
       "      <td>29.94 in</td>\n",
       "      <td>29.82 in</td>\n",
       "    </tr>\n",
       "    <tr>\n",
       "      <th>26</th>\n",
       "      <td>9/27/2020</td>\n",
       "      <td>80.6 F</td>\n",
       "      <td>70.3 F</td>\n",
       "      <td>65.5 F</td>\n",
       "      <td>99 %</td>\n",
       "      <td>92 %</td>\n",
       "      <td>67 %</td>\n",
       "      <td>29.85 in</td>\n",
       "      <td>29.73 in</td>\n",
       "    </tr>\n",
       "    <tr>\n",
       "      <th>27</th>\n",
       "      <td>9/28/2020</td>\n",
       "      <td>81.9 F</td>\n",
       "      <td>71.9 F</td>\n",
       "      <td>65.8 F</td>\n",
       "      <td>99 %</td>\n",
       "      <td>89 %</td>\n",
       "      <td>69 %</td>\n",
       "      <td>29.77 in</td>\n",
       "      <td>29.69 in</td>\n",
       "    </tr>\n",
       "    <tr>\n",
       "      <th>28</th>\n",
       "      <td>9/29/2020</td>\n",
       "      <td>82.0 F</td>\n",
       "      <td>69.0 F</td>\n",
       "      <td>54.5 F</td>\n",
       "      <td>99 %</td>\n",
       "      <td>88 %</td>\n",
       "      <td>64 %</td>\n",
       "      <td>29.72 in</td>\n",
       "      <td>29.54 in</td>\n",
       "    </tr>\n",
       "    <tr>\n",
       "      <th>29</th>\n",
       "      <td>9/30/2020</td>\n",
       "      <td>72.3 F</td>\n",
       "      <td>61.7 F</td>\n",
       "      <td>53.6 F</td>\n",
       "      <td>99 %</td>\n",
       "      <td>76 %</td>\n",
       "      <td>47 %</td>\n",
       "      <td>29.76 in</td>\n",
       "      <td>29.43 in</td>\n",
       "    </tr>\n",
       "  </tbody>\n",
       "</table>\n",
       "</div>"
      ],
      "text/plain": [
       "         Date temp_hi temp_avg temp_lo hum_hi hum_avg hum_lo  press_hi  \\\n",
       "25  9/26/2020  71.4 F   65.3 F  61.0 F   99 %    96 %   84 %  29.94 in   \n",
       "26  9/27/2020  80.6 F   70.3 F  65.5 F   99 %    92 %   67 %  29.85 in   \n",
       "27  9/28/2020  81.9 F   71.9 F  65.8 F   99 %    89 %   69 %  29.77 in   \n",
       "28  9/29/2020  82.0 F   69.0 F  54.5 F   99 %    88 %   64 %  29.72 in   \n",
       "29  9/30/2020  72.3 F   61.7 F  53.6 F   99 %    76 %   47 %  29.76 in   \n",
       "\n",
       "   press_avg  \n",
       "25  29.82 in  \n",
       "26  29.73 in  \n",
       "27  29.69 in  \n",
       "28  29.54 in  \n",
       "29  29.43 in  "
      ]
     },
     "execution_count": 4,
     "metadata": {},
     "output_type": "execute_result"
    }
   ],
   "source": [
    "gp.tail()"
   ]
  },
  {
   "cell_type": "markdown",
   "metadata": {},
   "source": [
    "We see that indeed, September temperatures seem somewhat higher than we would expect. However, before any analysis, we need to do some data cleaning. First, we'll remove any columns that we don't plan on using in our analysis."
   ]
  },
  {
   "cell_type": "code",
   "execution_count": 5,
   "metadata": {},
   "outputs": [
    {
     "data": {
      "text/html": [
       "<div>\n",
       "<style scoped>\n",
       "    .dataframe tbody tr th:only-of-type {\n",
       "        vertical-align: middle;\n",
       "    }\n",
       "\n",
       "    .dataframe tbody tr th {\n",
       "        vertical-align: top;\n",
       "    }\n",
       "\n",
       "    .dataframe thead th {\n",
       "        text-align: right;\n",
       "    }\n",
       "</style>\n",
       "<table border=\"1\" class=\"dataframe\">\n",
       "  <thead>\n",
       "    <tr style=\"text-align: right;\">\n",
       "      <th></th>\n",
       "      <th>Date</th>\n",
       "      <th>temp_hi</th>\n",
       "      <th>temp_avg</th>\n",
       "      <th>temp_lo</th>\n",
       "    </tr>\n",
       "  </thead>\n",
       "  <tbody>\n",
       "    <tr>\n",
       "      <th>0</th>\n",
       "      <td>9/1/2020</td>\n",
       "      <td>84.0 F</td>\n",
       "      <td>72.7 F</td>\n",
       "      <td>65.8 F</td>\n",
       "    </tr>\n",
       "    <tr>\n",
       "      <th>1</th>\n",
       "      <td>9/2/2020</td>\n",
       "      <td>90.1 F</td>\n",
       "      <td>78.7 F</td>\n",
       "      <td>72.9 F</td>\n",
       "    </tr>\n",
       "    <tr>\n",
       "      <th>2</th>\n",
       "      <td>9/3/2020</td>\n",
       "      <td>93.0 F</td>\n",
       "      <td>80.5 F</td>\n",
       "      <td>72.7 F</td>\n",
       "    </tr>\n",
       "    <tr>\n",
       "      <th>3</th>\n",
       "      <td>9/4/2020</td>\n",
       "      <td>90.9 F</td>\n",
       "      <td>78.4 F</td>\n",
       "      <td>69.4 F</td>\n",
       "    </tr>\n",
       "    <tr>\n",
       "      <th>4</th>\n",
       "      <td>9/5/2020</td>\n",
       "      <td>82.0 F</td>\n",
       "      <td>71.5 F</td>\n",
       "      <td>60.4 F</td>\n",
       "    </tr>\n",
       "  </tbody>\n",
       "</table>\n",
       "</div>"
      ],
      "text/plain": [
       "       Date temp_hi temp_avg temp_lo\n",
       "0  9/1/2020  84.0 F   72.7 F  65.8 F\n",
       "1  9/2/2020  90.1 F   78.7 F  72.9 F\n",
       "2  9/3/2020  93.0 F   80.5 F  72.7 F\n",
       "3  9/4/2020  90.9 F   78.4 F  69.4 F\n",
       "4  9/5/2020  82.0 F   71.5 F  60.4 F"
      ]
     },
     "execution_count": 5,
     "metadata": {},
     "output_type": "execute_result"
    }
   ],
   "source": [
    "gp = gp.filter(['Date','temp_hi', 'temp_avg', 'temp_lo', 'cum_precip'])\n",
    "gp.head()"
   ]
  },
  {
   "cell_type": "markdown",
   "metadata": {},
   "source": [
    "We really narrowed our dataset. This is okay, because we're only focusing on the temperature and precipitation. For a larger project, we could keep more of the other variables. The next issue that we notice is that our data points all include units. This is good practice when posting data somewhere, but will make analysis impossible, so we'll fix this. Furthermore, to make the dates easier to work with, we can covert them into datetime objects."
   ]
  },
  {
   "cell_type": "code",
   "execution_count": 6,
   "metadata": {},
   "outputs": [
    {
     "data": {
      "text/html": [
       "<div>\n",
       "<style scoped>\n",
       "    .dataframe tbody tr th:only-of-type {\n",
       "        vertical-align: middle;\n",
       "    }\n",
       "\n",
       "    .dataframe tbody tr th {\n",
       "        vertical-align: top;\n",
       "    }\n",
       "\n",
       "    .dataframe thead th {\n",
       "        text-align: right;\n",
       "    }\n",
       "</style>\n",
       "<table border=\"1\" class=\"dataframe\">\n",
       "  <thead>\n",
       "    <tr style=\"text-align: right;\">\n",
       "      <th></th>\n",
       "      <th>Date</th>\n",
       "      <th>temp_hi</th>\n",
       "      <th>temp_avg</th>\n",
       "      <th>temp_lo</th>\n",
       "    </tr>\n",
       "  </thead>\n",
       "  <tbody>\n",
       "    <tr>\n",
       "      <th>0</th>\n",
       "      <td>2020-09-01</td>\n",
       "      <td>84.0</td>\n",
       "      <td>72.7</td>\n",
       "      <td>65.8</td>\n",
       "    </tr>\n",
       "    <tr>\n",
       "      <th>1</th>\n",
       "      <td>2020-09-02</td>\n",
       "      <td>90.1</td>\n",
       "      <td>78.7</td>\n",
       "      <td>72.9</td>\n",
       "    </tr>\n",
       "    <tr>\n",
       "      <th>2</th>\n",
       "      <td>2020-09-03</td>\n",
       "      <td>93.0</td>\n",
       "      <td>80.5</td>\n",
       "      <td>72.7</td>\n",
       "    </tr>\n",
       "    <tr>\n",
       "      <th>3</th>\n",
       "      <td>2020-09-04</td>\n",
       "      <td>90.9</td>\n",
       "      <td>78.4</td>\n",
       "      <td>69.4</td>\n",
       "    </tr>\n",
       "    <tr>\n",
       "      <th>4</th>\n",
       "      <td>2020-09-05</td>\n",
       "      <td>82.0</td>\n",
       "      <td>71.5</td>\n",
       "      <td>60.4</td>\n",
       "    </tr>\n",
       "  </tbody>\n",
       "</table>\n",
       "</div>"
      ],
      "text/plain": [
       "        Date  temp_hi  temp_avg  temp_lo\n",
       "0 2020-09-01     84.0      72.7     65.8\n",
       "1 2020-09-02     90.1      78.7     72.9\n",
       "2 2020-09-03     93.0      80.5     72.7\n",
       "3 2020-09-04     90.9      78.4     69.4\n",
       "4 2020-09-05     82.0      71.5     60.4"
      ]
     },
     "execution_count": 6,
     "metadata": {},
     "output_type": "execute_result"
    }
   ],
   "source": [
    "gp[gp.columns[1:]] = (gp[gp.columns[1:]]\n",
    "                      .replace(\"F\", \"\", regex = True)\n",
    "                      .replace(\"in\", \"\", regex = True))\n",
    "gp[gp.columns[1:]] = gp[gp.columns[1:]].astype(float)\n",
    "gp[\"Date\"] = pd.to_datetime(gp[\"Date\"])\n",
    "gp.head()"
   ]
  },
  {
   "cell_type": "markdown",
   "metadata": {},
   "source": [
    "We've cleaned out any characters and coverted all of our columns, sans *Date*, to floats. We're ready to read in some more data and attempt to triangulate. "
   ]
  },
  {
   "cell_type": "markdown",
   "metadata": {},
   "source": [
    "We'll read in our NOAA data which comes from https://www.ncdc.noaa.gov/. It provides us with temperature and precipitation data for most of 2020 up until September. Again, we're using September because that's their most recent complete month. "
   ]
  },
  {
   "cell_type": "code",
   "execution_count": 7,
   "metadata": {},
   "outputs": [
    {
     "data": {
      "text/html": [
       "<div>\n",
       "<style scoped>\n",
       "    .dataframe tbody tr th:only-of-type {\n",
       "        vertical-align: middle;\n",
       "    }\n",
       "\n",
       "    .dataframe tbody tr th {\n",
       "        vertical-align: top;\n",
       "    }\n",
       "\n",
       "    .dataframe thead th {\n",
       "        text-align: right;\n",
       "    }\n",
       "</style>\n",
       "<table border=\"1\" class=\"dataframe\">\n",
       "  <thead>\n",
       "    <tr style=\"text-align: right;\">\n",
       "      <th></th>\n",
       "      <th>STATION</th>\n",
       "      <th>NAME</th>\n",
       "      <th>DATE</th>\n",
       "      <th>DAPR</th>\n",
       "      <th>MDPR</th>\n",
       "      <th>PRCP</th>\n",
       "      <th>SNOW</th>\n",
       "      <th>SNWD</th>\n",
       "      <th>TAVG</th>\n",
       "      <th>TMAX</th>\n",
       "      <th>TMIN</th>\n",
       "      <th>TOBS</th>\n",
       "    </tr>\n",
       "  </thead>\n",
       "  <tbody>\n",
       "    <tr>\n",
       "      <th>0</th>\n",
       "      <td>USC00186350</td>\n",
       "      <td>NATIONAL ARBORETUM DC, MD US</td>\n",
       "      <td>2020-01-01</td>\n",
       "      <td>NaN</td>\n",
       "      <td>NaN</td>\n",
       "      <td>0.00</td>\n",
       "      <td>0.0</td>\n",
       "      <td>0.0</td>\n",
       "      <td>NaN</td>\n",
       "      <td>53.0</td>\n",
       "      <td>40.0</td>\n",
       "      <td>41.0</td>\n",
       "    </tr>\n",
       "    <tr>\n",
       "      <th>1</th>\n",
       "      <td>USC00186350</td>\n",
       "      <td>NATIONAL ARBORETUM DC, MD US</td>\n",
       "      <td>2020-01-02</td>\n",
       "      <td>NaN</td>\n",
       "      <td>NaN</td>\n",
       "      <td>0.00</td>\n",
       "      <td>0.0</td>\n",
       "      <td>0.0</td>\n",
       "      <td>NaN</td>\n",
       "      <td>50.0</td>\n",
       "      <td>27.0</td>\n",
       "      <td>28.0</td>\n",
       "    </tr>\n",
       "    <tr>\n",
       "      <th>2</th>\n",
       "      <td>USC00186350</td>\n",
       "      <td>NATIONAL ARBORETUM DC, MD US</td>\n",
       "      <td>2020-01-03</td>\n",
       "      <td>NaN</td>\n",
       "      <td>NaN</td>\n",
       "      <td>0.21</td>\n",
       "      <td>0.0</td>\n",
       "      <td>0.0</td>\n",
       "      <td>NaN</td>\n",
       "      <td>53.0</td>\n",
       "      <td>28.0</td>\n",
       "      <td>48.0</td>\n",
       "    </tr>\n",
       "    <tr>\n",
       "      <th>3</th>\n",
       "      <td>USC00186350</td>\n",
       "      <td>NATIONAL ARBORETUM DC, MD US</td>\n",
       "      <td>2020-01-04</td>\n",
       "      <td>NaN</td>\n",
       "      <td>NaN</td>\n",
       "      <td>0.11</td>\n",
       "      <td>0.0</td>\n",
       "      <td>0.0</td>\n",
       "      <td>NaN</td>\n",
       "      <td>55.0</td>\n",
       "      <td>48.0</td>\n",
       "      <td>55.0</td>\n",
       "    </tr>\n",
       "    <tr>\n",
       "      <th>4</th>\n",
       "      <td>USC00186350</td>\n",
       "      <td>NATIONAL ARBORETUM DC, MD US</td>\n",
       "      <td>2020-01-05</td>\n",
       "      <td>NaN</td>\n",
       "      <td>NaN</td>\n",
       "      <td>0.20</td>\n",
       "      <td>0.0</td>\n",
       "      <td>0.0</td>\n",
       "      <td>NaN</td>\n",
       "      <td>59.0</td>\n",
       "      <td>38.0</td>\n",
       "      <td>38.0</td>\n",
       "    </tr>\n",
       "  </tbody>\n",
       "</table>\n",
       "</div>"
      ],
      "text/plain": [
       "       STATION                          NAME        DATE  DAPR  MDPR  PRCP  \\\n",
       "0  USC00186350  NATIONAL ARBORETUM DC, MD US  2020-01-01   NaN   NaN  0.00   \n",
       "1  USC00186350  NATIONAL ARBORETUM DC, MD US  2020-01-02   NaN   NaN  0.00   \n",
       "2  USC00186350  NATIONAL ARBORETUM DC, MD US  2020-01-03   NaN   NaN  0.21   \n",
       "3  USC00186350  NATIONAL ARBORETUM DC, MD US  2020-01-04   NaN   NaN  0.11   \n",
       "4  USC00186350  NATIONAL ARBORETUM DC, MD US  2020-01-05   NaN   NaN  0.20   \n",
       "\n",
       "   SNOW  SNWD  TAVG  TMAX  TMIN  TOBS  \n",
       "0   0.0   0.0   NaN  53.0  40.0  41.0  \n",
       "1   0.0   0.0   NaN  50.0  27.0  28.0  \n",
       "2   0.0   0.0   NaN  53.0  28.0  48.0  \n",
       "3   0.0   0.0   NaN  55.0  48.0  55.0  \n",
       "4   0.0   0.0   NaN  59.0  38.0  38.0  "
      ]
     },
     "execution_count": 7,
     "metadata": {},
     "output_type": "execute_result"
    }
   ],
   "source": [
    "noaa = pd.read_csv(\"noaa_sept.csv\")\n",
    "noaa.head()"
   ]
  },
  {
   "cell_type": "code",
   "execution_count": 8,
   "metadata": {},
   "outputs": [
    {
     "data": {
      "text/plain": [
       "{'DALECARLIA RESERVOIR, MD US',\n",
       " 'NATIONAL ARBORETUM DC, MD US',\n",
       " 'WASHINGTON REAGAN NATIONAL AIRPORT, VA US'}"
      ]
     },
     "execution_count": 8,
     "metadata": {},
     "output_type": "execute_result"
    }
   ],
   "source": [
    "set(noaa[\"NAME\"])"
   ]
  },
  {
   "cell_type": "markdown",
   "metadata": {},
   "source": [
    "We see that we have three separate data sources that we have this data from; all varying distances away from our Glover Park weather station. Our goal is to create a model that gives us weights for each pf these weather stations and render our personal weather station obsolete. However, personal weather stations are fun and can add data to networks (see Weather Undergound), helping to create even stronger weather readings. So while our model may be able to render our station obsolete, that's not the purpose of this project."
   ]
  },
  {
   "cell_type": "markdown",
   "metadata": {},
   "source": [
    "Similar to above, we want to clean the data to ensure we are working with the correct structures. "
   ]
  },
  {
   "cell_type": "code",
   "execution_count": 9,
   "metadata": {},
   "outputs": [],
   "source": [
    "noaa[noaa.columns[3:]] = noaa[noaa.columns[3:]].astype(float)\n",
    "noaa[\"DATE\"] = pd.to_datetime(noaa[\"DATE\"])"
   ]
  },
  {
   "cell_type": "markdown",
   "metadata": {},
   "source": [
    "We now want to clean this data, such that we only include September data and we clean out some of the unnecessary columns. "
   ]
  },
  {
   "cell_type": "code",
   "execution_count": 10,
   "metadata": {},
   "outputs": [
    {
     "data": {
      "text/html": [
       "<div>\n",
       "<style scoped>\n",
       "    .dataframe tbody tr th:only-of-type {\n",
       "        vertical-align: middle;\n",
       "    }\n",
       "\n",
       "    .dataframe tbody tr th {\n",
       "        vertical-align: top;\n",
       "    }\n",
       "\n",
       "    .dataframe thead th {\n",
       "        text-align: right;\n",
       "    }\n",
       "</style>\n",
       "<table border=\"1\" class=\"dataframe\">\n",
       "  <thead>\n",
       "    <tr style=\"text-align: right;\">\n",
       "      <th></th>\n",
       "      <th>STATION</th>\n",
       "      <th>NAME</th>\n",
       "      <th>Date</th>\n",
       "      <th>PRCP</th>\n",
       "      <th>SNOW</th>\n",
       "      <th>SNWD</th>\n",
       "      <th>TAVG</th>\n",
       "      <th>TMAX</th>\n",
       "      <th>TMIN</th>\n",
       "      <th>TOBS</th>\n",
       "    </tr>\n",
       "  </thead>\n",
       "  <tbody>\n",
       "    <tr>\n",
       "      <th>244</th>\n",
       "      <td>USC00186350</td>\n",
       "      <td>NATIONAL ARBORETUM DC, MD US</td>\n",
       "      <td>2020-09-01</td>\n",
       "      <td>0.56</td>\n",
       "      <td>0.0</td>\n",
       "      <td>0.0</td>\n",
       "      <td>NaN</td>\n",
       "      <td>77.0</td>\n",
       "      <td>67.0</td>\n",
       "      <td>72.0</td>\n",
       "    </tr>\n",
       "    <tr>\n",
       "      <th>245</th>\n",
       "      <td>USC00186350</td>\n",
       "      <td>NATIONAL ARBORETUM DC, MD US</td>\n",
       "      <td>2020-09-02</td>\n",
       "      <td>0.02</td>\n",
       "      <td>0.0</td>\n",
       "      <td>0.0</td>\n",
       "      <td>NaN</td>\n",
       "      <td>82.0</td>\n",
       "      <td>72.0</td>\n",
       "      <td>75.0</td>\n",
       "    </tr>\n",
       "    <tr>\n",
       "      <th>246</th>\n",
       "      <td>USC00186350</td>\n",
       "      <td>NATIONAL ARBORETUM DC, MD US</td>\n",
       "      <td>2020-09-03</td>\n",
       "      <td>0.03</td>\n",
       "      <td>0.0</td>\n",
       "      <td>0.0</td>\n",
       "      <td>NaN</td>\n",
       "      <td>88.0</td>\n",
       "      <td>72.0</td>\n",
       "      <td>77.0</td>\n",
       "    </tr>\n",
       "    <tr>\n",
       "      <th>247</th>\n",
       "      <td>USC00186350</td>\n",
       "      <td>NATIONAL ARBORETUM DC, MD US</td>\n",
       "      <td>2020-09-04</td>\n",
       "      <td>1.58</td>\n",
       "      <td>0.0</td>\n",
       "      <td>0.0</td>\n",
       "      <td>NaN</td>\n",
       "      <td>92.0</td>\n",
       "      <td>72.0</td>\n",
       "      <td>76.0</td>\n",
       "    </tr>\n",
       "    <tr>\n",
       "      <th>248</th>\n",
       "      <td>USC00186350</td>\n",
       "      <td>NATIONAL ARBORETUM DC, MD US</td>\n",
       "      <td>2020-09-05</td>\n",
       "      <td>0.01</td>\n",
       "      <td>0.0</td>\n",
       "      <td>0.0</td>\n",
       "      <td>NaN</td>\n",
       "      <td>89.0</td>\n",
       "      <td>60.0</td>\n",
       "      <td>70.0</td>\n",
       "    </tr>\n",
       "  </tbody>\n",
       "</table>\n",
       "</div>"
      ],
      "text/plain": [
       "         STATION                          NAME       Date  PRCP  SNOW  SNWD  \\\n",
       "244  USC00186350  NATIONAL ARBORETUM DC, MD US 2020-09-01  0.56   0.0   0.0   \n",
       "245  USC00186350  NATIONAL ARBORETUM DC, MD US 2020-09-02  0.02   0.0   0.0   \n",
       "246  USC00186350  NATIONAL ARBORETUM DC, MD US 2020-09-03  0.03   0.0   0.0   \n",
       "247  USC00186350  NATIONAL ARBORETUM DC, MD US 2020-09-04  1.58   0.0   0.0   \n",
       "248  USC00186350  NATIONAL ARBORETUM DC, MD US 2020-09-05  0.01   0.0   0.0   \n",
       "\n",
       "     TAVG  TMAX  TMIN  TOBS  \n",
       "244   NaN  77.0  67.0  72.0  \n",
       "245   NaN  82.0  72.0  75.0  \n",
       "246   NaN  88.0  72.0  77.0  \n",
       "247   NaN  92.0  72.0  76.0  \n",
       "248   NaN  89.0  60.0  70.0  "
      ]
     },
     "execution_count": 10,
     "metadata": {},
     "output_type": "execute_result"
    }
   ],
   "source": [
    "noaa = noaa.drop([\"DAPR\", \"MDPR\"], axis = 1)\n",
    "noaa_sept = noaa[noaa[\"DATE\"].dt.month == 9]\n",
    "noaa_sept = noaa_sept.rename(columns={\"DATE\": \"Date\"})\n",
    "noaa_sept.head()"
   ]
  },
  {
   "cell_type": "markdown",
   "metadata": {},
   "source": [
    "One of the last data clean task before we join our two data sources is to widen our data set. This means that there should be a column for each observsation. In other words, instead of one date taking up three different rows, we will create three *TMAX* columns: one for each location. We'll repeat this process for *TMIN* and *PRCP*. "
   ]
  },
  {
   "cell_type": "code",
   "execution_count": 11,
   "metadata": {},
   "outputs": [
    {
     "data": {
      "text/html": [
       "<div>\n",
       "<style scoped>\n",
       "    .dataframe tbody tr th:only-of-type {\n",
       "        vertical-align: middle;\n",
       "    }\n",
       "\n",
       "    .dataframe tbody tr th {\n",
       "        vertical-align: top;\n",
       "    }\n",
       "\n",
       "    .dataframe thead tr th {\n",
       "        text-align: left;\n",
       "    }\n",
       "\n",
       "    .dataframe thead tr:last-of-type th {\n",
       "        text-align: right;\n",
       "    }\n",
       "</style>\n",
       "<table border=\"1\" class=\"dataframe\">\n",
       "  <thead>\n",
       "    <tr>\n",
       "      <th></th>\n",
       "      <th colspan=\"3\" halign=\"left\">TMAX</th>\n",
       "      <th colspan=\"3\" halign=\"left\">TMIN</th>\n",
       "      <th colspan=\"3\" halign=\"left\">PRCP</th>\n",
       "    </tr>\n",
       "    <tr>\n",
       "      <th>STATION</th>\n",
       "      <th>USC00182325</th>\n",
       "      <th>USC00186350</th>\n",
       "      <th>USW00013743</th>\n",
       "      <th>USC00182325</th>\n",
       "      <th>USC00186350</th>\n",
       "      <th>USW00013743</th>\n",
       "      <th>USC00182325</th>\n",
       "      <th>USC00186350</th>\n",
       "      <th>USW00013743</th>\n",
       "    </tr>\n",
       "    <tr>\n",
       "      <th>Date</th>\n",
       "      <th></th>\n",
       "      <th></th>\n",
       "      <th></th>\n",
       "      <th></th>\n",
       "      <th></th>\n",
       "      <th></th>\n",
       "      <th></th>\n",
       "      <th></th>\n",
       "      <th></th>\n",
       "    </tr>\n",
       "  </thead>\n",
       "  <tbody>\n",
       "    <tr>\n",
       "      <th>2020-09-01</th>\n",
       "      <td>77.0</td>\n",
       "      <td>77.0</td>\n",
       "      <td>82.0</td>\n",
       "      <td>66.0</td>\n",
       "      <td>67.0</td>\n",
       "      <td>68.0</td>\n",
       "      <td>0.48</td>\n",
       "      <td>0.56</td>\n",
       "      <td>0.11</td>\n",
       "    </tr>\n",
       "    <tr>\n",
       "      <th>2020-09-02</th>\n",
       "      <td>81.0</td>\n",
       "      <td>82.0</td>\n",
       "      <td>88.0</td>\n",
       "      <td>68.0</td>\n",
       "      <td>72.0</td>\n",
       "      <td>74.0</td>\n",
       "      <td>0.08</td>\n",
       "      <td>0.02</td>\n",
       "      <td>0.01</td>\n",
       "    </tr>\n",
       "    <tr>\n",
       "      <th>2020-09-03</th>\n",
       "      <td>88.0</td>\n",
       "      <td>88.0</td>\n",
       "      <td>91.0</td>\n",
       "      <td>71.0</td>\n",
       "      <td>72.0</td>\n",
       "      <td>75.0</td>\n",
       "      <td>0.10</td>\n",
       "      <td>0.03</td>\n",
       "      <td>0.38</td>\n",
       "    </tr>\n",
       "    <tr>\n",
       "      <th>2020-09-04</th>\n",
       "      <td>91.0</td>\n",
       "      <td>92.0</td>\n",
       "      <td>91.0</td>\n",
       "      <td>70.0</td>\n",
       "      <td>72.0</td>\n",
       "      <td>72.0</td>\n",
       "      <td>0.75</td>\n",
       "      <td>1.58</td>\n",
       "      <td>0.00</td>\n",
       "    </tr>\n",
       "    <tr>\n",
       "      <th>2020-09-05</th>\n",
       "      <td>88.0</td>\n",
       "      <td>89.0</td>\n",
       "      <td>82.0</td>\n",
       "      <td>60.0</td>\n",
       "      <td>60.0</td>\n",
       "      <td>63.0</td>\n",
       "      <td>0.00</td>\n",
       "      <td>0.01</td>\n",
       "      <td>0.00</td>\n",
       "    </tr>\n",
       "  </tbody>\n",
       "</table>\n",
       "</div>"
      ],
      "text/plain": [
       "                  TMAX                                TMIN              \\\n",
       "STATION    USC00182325 USC00186350 USW00013743 USC00182325 USC00186350   \n",
       "Date                                                                     \n",
       "2020-09-01        77.0        77.0        82.0        66.0        67.0   \n",
       "2020-09-02        81.0        82.0        88.0        68.0        72.0   \n",
       "2020-09-03        88.0        88.0        91.0        71.0        72.0   \n",
       "2020-09-04        91.0        92.0        91.0        70.0        72.0   \n",
       "2020-09-05        88.0        89.0        82.0        60.0        60.0   \n",
       "\n",
       "                              PRCP                          \n",
       "STATION    USW00013743 USC00182325 USC00186350 USW00013743  \n",
       "Date                                                        \n",
       "2020-09-01        68.0        0.48        0.56        0.11  \n",
       "2020-09-02        74.0        0.08        0.02        0.01  \n",
       "2020-09-03        75.0        0.10        0.03        0.38  \n",
       "2020-09-04        72.0        0.75        1.58        0.00  \n",
       "2020-09-05        63.0        0.00        0.01        0.00  "
      ]
     },
     "execution_count": 11,
     "metadata": {},
     "output_type": "execute_result"
    }
   ],
   "source": [
    "noaa_sept = noaa_sept.pivot(index = \"Date\", columns = \"STATION\", values = [\"TMAX\", \"TMIN\", \"PRCP\"])\n",
    "noaa_sept.head()"
   ]
  },
  {
   "cell_type": "markdown",
   "metadata": {},
   "source": [
    "And finally, the end of the arduous data clean process. Due to the `pivot`, we must drop a level off the multilevel dataframe. After this, we'll get repeated columns names, so we'll rename all of out columns. For reference, below is each station and its new corresponding number attached to it:\n",
    "\n",
    "- Station 1: Dalecarlia Reservoir\n",
    "- Station 2: National Arboretum\n",
    "- Station 3: Reagan National Airport"
   ]
  },
  {
   "cell_type": "code",
   "execution_count": 12,
   "metadata": {},
   "outputs": [
    {
     "data": {
      "text/html": [
       "<div>\n",
       "<style scoped>\n",
       "    .dataframe tbody tr th:only-of-type {\n",
       "        vertical-align: middle;\n",
       "    }\n",
       "\n",
       "    .dataframe tbody tr th {\n",
       "        vertical-align: top;\n",
       "    }\n",
       "\n",
       "    .dataframe thead th {\n",
       "        text-align: right;\n",
       "    }\n",
       "</style>\n",
       "<table border=\"1\" class=\"dataframe\">\n",
       "  <thead>\n",
       "    <tr style=\"text-align: right;\">\n",
       "      <th></th>\n",
       "      <th>TMAX_1</th>\n",
       "      <th>TMAX_2</th>\n",
       "      <th>TMAX_3</th>\n",
       "      <th>TMIN_1</th>\n",
       "      <th>TMIN_2</th>\n",
       "      <th>TMIN_3</th>\n",
       "      <th>PRCP_1</th>\n",
       "      <th>PRCP_2</th>\n",
       "      <th>PRCP_3</th>\n",
       "    </tr>\n",
       "    <tr>\n",
       "      <th>Date</th>\n",
       "      <th></th>\n",
       "      <th></th>\n",
       "      <th></th>\n",
       "      <th></th>\n",
       "      <th></th>\n",
       "      <th></th>\n",
       "      <th></th>\n",
       "      <th></th>\n",
       "      <th></th>\n",
       "    </tr>\n",
       "  </thead>\n",
       "  <tbody>\n",
       "    <tr>\n",
       "      <th>2020-09-01</th>\n",
       "      <td>77.0</td>\n",
       "      <td>77.0</td>\n",
       "      <td>82.0</td>\n",
       "      <td>66.0</td>\n",
       "      <td>67.0</td>\n",
       "      <td>68.0</td>\n",
       "      <td>0.48</td>\n",
       "      <td>0.56</td>\n",
       "      <td>0.11</td>\n",
       "    </tr>\n",
       "    <tr>\n",
       "      <th>2020-09-02</th>\n",
       "      <td>81.0</td>\n",
       "      <td>82.0</td>\n",
       "      <td>88.0</td>\n",
       "      <td>68.0</td>\n",
       "      <td>72.0</td>\n",
       "      <td>74.0</td>\n",
       "      <td>0.08</td>\n",
       "      <td>0.02</td>\n",
       "      <td>0.01</td>\n",
       "    </tr>\n",
       "    <tr>\n",
       "      <th>2020-09-03</th>\n",
       "      <td>88.0</td>\n",
       "      <td>88.0</td>\n",
       "      <td>91.0</td>\n",
       "      <td>71.0</td>\n",
       "      <td>72.0</td>\n",
       "      <td>75.0</td>\n",
       "      <td>0.10</td>\n",
       "      <td>0.03</td>\n",
       "      <td>0.38</td>\n",
       "    </tr>\n",
       "    <tr>\n",
       "      <th>2020-09-04</th>\n",
       "      <td>91.0</td>\n",
       "      <td>92.0</td>\n",
       "      <td>91.0</td>\n",
       "      <td>70.0</td>\n",
       "      <td>72.0</td>\n",
       "      <td>72.0</td>\n",
       "      <td>0.75</td>\n",
       "      <td>1.58</td>\n",
       "      <td>0.00</td>\n",
       "    </tr>\n",
       "    <tr>\n",
       "      <th>2020-09-05</th>\n",
       "      <td>88.0</td>\n",
       "      <td>89.0</td>\n",
       "      <td>82.0</td>\n",
       "      <td>60.0</td>\n",
       "      <td>60.0</td>\n",
       "      <td>63.0</td>\n",
       "      <td>0.00</td>\n",
       "      <td>0.01</td>\n",
       "      <td>0.00</td>\n",
       "    </tr>\n",
       "  </tbody>\n",
       "</table>\n",
       "</div>"
      ],
      "text/plain": [
       "            TMAX_1  TMAX_2  TMAX_3  TMIN_1  TMIN_2  TMIN_3  PRCP_1  PRCP_2  \\\n",
       "Date                                                                         \n",
       "2020-09-01    77.0    77.0    82.0    66.0    67.0    68.0    0.48    0.56   \n",
       "2020-09-02    81.0    82.0    88.0    68.0    72.0    74.0    0.08    0.02   \n",
       "2020-09-03    88.0    88.0    91.0    71.0    72.0    75.0    0.10    0.03   \n",
       "2020-09-04    91.0    92.0    91.0    70.0    72.0    72.0    0.75    1.58   \n",
       "2020-09-05    88.0    89.0    82.0    60.0    60.0    63.0    0.00    0.01   \n",
       "\n",
       "            PRCP_3  \n",
       "Date                \n",
       "2020-09-01    0.11  \n",
       "2020-09-02    0.01  \n",
       "2020-09-03    0.38  \n",
       "2020-09-04    0.00  \n",
       "2020-09-05    0.00  "
      ]
     },
     "execution_count": 12,
     "metadata": {},
     "output_type": "execute_result"
    }
   ],
   "source": [
    "noaa_sept.columns = noaa_sept.columns.droplevel(0)\n",
    "noaa_sept.columns = [\"TMAX_1\", \"TMAX_2\", \"TMAX_3\", \"TMIN_1\", \"TMIN_2\", \"TMIN_3\", \"PRCP_1\", \"PRCP_2\", \"PRCP_3\"]\n",
    "noaa_sept.head()"
   ]
  },
  {
   "cell_type": "markdown",
   "metadata": {},
   "source": [
    "It looks like all is in order for as far as data cleaning goes, so now we'll have to join our two tables by date."
   ]
  },
  {
   "cell_type": "code",
   "execution_count": 13,
   "metadata": {},
   "outputs": [
    {
     "data": {
      "text/html": [
       "<div>\n",
       "<style scoped>\n",
       "    .dataframe tbody tr th:only-of-type {\n",
       "        vertical-align: middle;\n",
       "    }\n",
       "\n",
       "    .dataframe tbody tr th {\n",
       "        vertical-align: top;\n",
       "    }\n",
       "\n",
       "    .dataframe thead th {\n",
       "        text-align: right;\n",
       "    }\n",
       "</style>\n",
       "<table border=\"1\" class=\"dataframe\">\n",
       "  <thead>\n",
       "    <tr style=\"text-align: right;\">\n",
       "      <th></th>\n",
       "      <th>Date</th>\n",
       "      <th>temp_hi</th>\n",
       "      <th>temp_avg</th>\n",
       "      <th>temp_lo</th>\n",
       "      <th>TMAX_1</th>\n",
       "      <th>TMAX_2</th>\n",
       "      <th>TMAX_3</th>\n",
       "      <th>TMIN_1</th>\n",
       "      <th>TMIN_2</th>\n",
       "      <th>TMIN_3</th>\n",
       "      <th>PRCP_1</th>\n",
       "      <th>PRCP_2</th>\n",
       "      <th>PRCP_3</th>\n",
       "    </tr>\n",
       "  </thead>\n",
       "  <tbody>\n",
       "    <tr>\n",
       "      <th>0</th>\n",
       "      <td>2020-09-01</td>\n",
       "      <td>84.0</td>\n",
       "      <td>72.7</td>\n",
       "      <td>65.8</td>\n",
       "      <td>77.0</td>\n",
       "      <td>77.0</td>\n",
       "      <td>82.0</td>\n",
       "      <td>66.0</td>\n",
       "      <td>67.0</td>\n",
       "      <td>68.0</td>\n",
       "      <td>0.48</td>\n",
       "      <td>0.56</td>\n",
       "      <td>0.11</td>\n",
       "    </tr>\n",
       "    <tr>\n",
       "      <th>1</th>\n",
       "      <td>2020-09-02</td>\n",
       "      <td>90.1</td>\n",
       "      <td>78.7</td>\n",
       "      <td>72.9</td>\n",
       "      <td>81.0</td>\n",
       "      <td>82.0</td>\n",
       "      <td>88.0</td>\n",
       "      <td>68.0</td>\n",
       "      <td>72.0</td>\n",
       "      <td>74.0</td>\n",
       "      <td>0.08</td>\n",
       "      <td>0.02</td>\n",
       "      <td>0.01</td>\n",
       "    </tr>\n",
       "    <tr>\n",
       "      <th>2</th>\n",
       "      <td>2020-09-03</td>\n",
       "      <td>93.0</td>\n",
       "      <td>80.5</td>\n",
       "      <td>72.7</td>\n",
       "      <td>88.0</td>\n",
       "      <td>88.0</td>\n",
       "      <td>91.0</td>\n",
       "      <td>71.0</td>\n",
       "      <td>72.0</td>\n",
       "      <td>75.0</td>\n",
       "      <td>0.10</td>\n",
       "      <td>0.03</td>\n",
       "      <td>0.38</td>\n",
       "    </tr>\n",
       "    <tr>\n",
       "      <th>3</th>\n",
       "      <td>2020-09-04</td>\n",
       "      <td>90.9</td>\n",
       "      <td>78.4</td>\n",
       "      <td>69.4</td>\n",
       "      <td>91.0</td>\n",
       "      <td>92.0</td>\n",
       "      <td>91.0</td>\n",
       "      <td>70.0</td>\n",
       "      <td>72.0</td>\n",
       "      <td>72.0</td>\n",
       "      <td>0.75</td>\n",
       "      <td>1.58</td>\n",
       "      <td>0.00</td>\n",
       "    </tr>\n",
       "    <tr>\n",
       "      <th>4</th>\n",
       "      <td>2020-09-05</td>\n",
       "      <td>82.0</td>\n",
       "      <td>71.5</td>\n",
       "      <td>60.4</td>\n",
       "      <td>88.0</td>\n",
       "      <td>89.0</td>\n",
       "      <td>82.0</td>\n",
       "      <td>60.0</td>\n",
       "      <td>60.0</td>\n",
       "      <td>63.0</td>\n",
       "      <td>0.00</td>\n",
       "      <td>0.01</td>\n",
       "      <td>0.00</td>\n",
       "    </tr>\n",
       "  </tbody>\n",
       "</table>\n",
       "</div>"
      ],
      "text/plain": [
       "        Date  temp_hi  temp_avg  temp_lo  TMAX_1  TMAX_2  TMAX_3  TMIN_1  \\\n",
       "0 2020-09-01     84.0      72.7     65.8    77.0    77.0    82.0    66.0   \n",
       "1 2020-09-02     90.1      78.7     72.9    81.0    82.0    88.0    68.0   \n",
       "2 2020-09-03     93.0      80.5     72.7    88.0    88.0    91.0    71.0   \n",
       "3 2020-09-04     90.9      78.4     69.4    91.0    92.0    91.0    70.0   \n",
       "4 2020-09-05     82.0      71.5     60.4    88.0    89.0    82.0    60.0   \n",
       "\n",
       "   TMIN_2  TMIN_3  PRCP_1  PRCP_2  PRCP_3  \n",
       "0    67.0    68.0    0.48    0.56    0.11  \n",
       "1    72.0    74.0    0.08    0.02    0.01  \n",
       "2    72.0    75.0    0.10    0.03    0.38  \n",
       "3    72.0    72.0    0.75    1.58    0.00  \n",
       "4    60.0    63.0    0.00    0.01    0.00  "
      ]
     },
     "execution_count": 13,
     "metadata": {},
     "output_type": "execute_result"
    }
   ],
   "source": [
    "weather = pd.merge(left=gp, right=noaa_sept, how=\"inner\", on=\"Date\")\n",
    "weather = weather.dropna()\n",
    "weather.head()"
   ]
  },
  {
   "cell_type": "markdown",
   "metadata": {},
   "source": [
    "All looks good here. We had to drop two observations due to NAs, but we're ready for analysis!"
   ]
  },
  {
   "cell_type": "markdown",
   "metadata": {},
   "source": [
    "## Exploratory Data Analysis"
   ]
  },
  {
   "cell_type": "markdown",
   "metadata": {},
   "source": [
    "Before we do any regression analysis, we'll take a look at our data and make sure it satisfies any assumptions. We'll first look at how the PWS data is distrbuted."
   ]
  },
  {
   "cell_type": "code",
   "execution_count": 14,
   "metadata": {},
   "outputs": [
    {
     "data": {
      "image/png": "[encoded data removed]",
      "text/plain": [
       "<Figure size 432x288 with 1 Axes>"
      ]
     },
     "metadata": {},
     "output_type": "display_data"
    }
   ],
   "source": [
    "plt.hist(weather[\"temp_hi\"], bins = 10)\n",
    "plt.xlabel(\"Temperature (F)\")\n",
    "plt.ylabel(\"count\")\n",
    "plt.title('Daily highs for September 2020') \n",
    "plt.show()"
   ]
  },
  {
   "cell_type": "markdown",
   "metadata": {},
   "source": [
    "We can see that the daily high temperature does not seem to have any distinct shape or skew. We'll further inverstigate by looking at the daily lows and averages."
   ]
  },
  {
   "cell_type": "code",
   "execution_count": 15,
   "metadata": {},
   "outputs": [
    {
     "data": {
      "image/png": "[encoded data removed]",
      "text/plain": [
       "<Figure size 432x288 with 1 Axes>"
      ]
     },
     "metadata": {},
     "output_type": "display_data"
    }
   ],
   "source": [
    "plt.hist(weather[\"temp_lo\"], bins = 10)\n",
    "plt.xlabel(\"Temperature (F)\")\n",
    "plt.ylabel(\"count\")\n",
    "plt.title('Daily lows for September 2020') \n",
    "plt.show()"
   ]
  },
  {
   "cell_type": "markdown",
   "metadata": {},
   "source": [
    "From above, we see that the daily lows take a somewhat similar shape, but has stronger tails. This is interesting as September is not always considered to be a month of extremes, but it seems that there have been some pretty low daily lows and some relatively high daily maximum temperatures. "
   ]
  },
  {
   "cell_type": "markdown",
   "metadata": {},
   "source": [
    "## Regression and Analysis"
   ]
  },
  {
   "cell_type": "markdown",
   "metadata": {},
   "source": [
    "Our response variable will be our PWS daily high temperatures, with our predictors being each of the three stations daily highs. After choosing these variables, our first step is to split our data into training and testing sets.  We will set aside 75% of our data for training the model, and the other 25% for testing the accuracy. This split is rather high, but with n = 28, we need to spend more of our data on training our model and making it less susceptible to outliers. "
   ]
  },
  {
   "cell_type": "code",
   "execution_count": 16,
   "metadata": {},
   "outputs": [
    {
     "data": {
      "text/plain": [
       "((21, 3), (21,))"
      ]
     },
     "execution_count": 16,
     "metadata": {},
     "output_type": "execute_result"
    }
   ],
   "source": [
    "X_train, X_test, y_train, y_test = train_test_split(weather[[\"TMAX_1\", \"TMAX_2\", \"TMAX_3\"]], weather[\"temp_hi\"], test_size=0.25, random_state = 51)\n",
    "X_train.shape, y_train.shape"
   ]
  },
  {
   "cell_type": "code",
   "execution_count": 17,
   "metadata": {},
   "outputs": [
    {
     "data": {
      "text/plain": [
       "((7, 3), (7,))"
      ]
     },
     "execution_count": 17,
     "metadata": {},
     "output_type": "execute_result"
    }
   ],
   "source": [
    "X_test.shape, y_test.shape"
   ]
  },
  {
   "cell_type": "markdown",
   "metadata": {},
   "source": [
    "Now that we're all set, we'll first attempt this regression using the maximum daily temperature."
   ]
  },
  {
   "cell_type": "code",
   "execution_count": 18,
   "metadata": {},
   "outputs": [],
   "source": [
    "lm = linear_model.LinearRegression()\n",
    "weather_lm = lm.fit(X_train, y_train)"
   ]
  },
  {
   "cell_type": "code",
   "execution_count": 19,
   "metadata": {},
   "outputs": [
    {
     "data": {
      "text/plain": [
       "(-5.290235748507698, array([ 0.10997537, -0.17633528,  1.14580998]))"
      ]
     },
     "execution_count": 19,
     "metadata": {},
     "output_type": "execute_result"
    }
   ],
   "source": [
    "weather_lm.intercept_, weather_lm.coef_"
   ]
  },
  {
   "cell_type": "markdown",
   "metadata": {},
   "source": [
    "Thus, our estimated regression function is $\\widehat{temp\\_hi} = -5.29024 + 0.10998TMAX\\_1 - 0.317634TMAX\\_2 + 1.14581TMAX\\_3$"
   ]
  },
  {
   "cell_type": "code",
   "execution_count": 20,
   "metadata": {},
   "outputs": [
    {
     "data": {
      "text/plain": [
       "0.9293838519988077"
      ]
     },
     "execution_count": 20,
     "metadata": {},
     "output_type": "execute_result"
    }
   ],
   "source": [
    "weather_lm.score(X_test, y_test)"
   ]
  },
  {
   "cell_type": "markdown",
   "metadata": {},
   "source": [
    "Furthermore, our corresponding $R^2$ value is 92.94%. In other words, 92.94% of the variance in our PWS data can be explained by our estimated regression function using the other three weather stations. This is pretty good, however it's important to remember that we don't have a ton of data to go off of."
   ]
  },
  {
   "cell_type": "code",
   "execution_count": 21,
   "metadata": {},
   "outputs": [],
   "source": [
    "predictions = lm.predict(X_test)"
   ]
  },
  {
   "cell_type": "code",
   "execution_count": 22,
   "metadata": {},
   "outputs": [
    {
     "data": {
      "image/png": "[encoded data removed]",
      "text/plain": [
       "<Figure size 432x288 with 1 Axes>"
      ]
     },
     "metadata": {},
     "output_type": "display_data"
    }
   ],
   "source": [
    "plt.scatter(y_test, predictions)\n",
    "plt.plot([65,95], [65,95], color = \"black\")\n",
    "plt.xlabel(\"True Value\")\n",
    "plt.ylabel(\"Predicted Value\")\n",
    "plt.title(\"Fit vs. Actual Scatterplot\")\n",
    "plt.show()"
   ]
  },
  {
   "cell_type": "markdown",
   "metadata": {},
   "source": [
    "Our predicted values seem to be pretty good. Ideally, we want them to follow the line $y = x$. It looks like there are a few observations that stray from this point but for the most part, our predicted values seem to be very solid. We'll check out the residuals next."
   ]
  },
  {
   "cell_type": "code",
   "execution_count": 23,
   "metadata": {},
   "outputs": [
    {
     "data": {
      "text/plain": [
       "<AxesSubplot:ylabel='temp_hi'>"
      ]
     },
     "execution_count": 23,
     "metadata": {},
     "output_type": "execute_result"
    },
    {
     "data": {
      "image/png": "[encoded data removed]",
      "text/plain": [
       "<Figure size 432x288 with 1 Axes>"
      ]
     },
     "metadata": {},
     "output_type": "display_data"
    }
   ],
   "source": [
    "sns.residplot(x=predictions, y=y_test, color=\"b\")"
   ]
  },
  {
   "cell_type": "markdown",
   "metadata": {},
   "source": [
    "Our residuals, while scarce, look pretty good. There is definitely no inherent pattern to them, which indicates that our model is a pretty good fit to the data."
   ]
  },
  {
   "cell_type": "markdown",
   "metadata": {},
   "source": [
    "## Cross-Validation"
   ]
  },
  {
   "cell_type": "markdown",
   "metadata": {},
   "source": [
    "Cross-validation is to make sure our model is as finely tuned as possible. Rather than splitting the data, we can perform corssvalidation with k folds. We want the $R^2$ values to be as high as possible. We'll use a for loop to see the optimal number of folds we should use for cross-validation."
   ]
  },
  {
   "cell_type": "code",
   "execution_count": 24,
   "metadata": {},
   "outputs": [
    {
     "name": "stdout",
     "output_type": "stream",
     "text": [
      "K: 2, Score: 0.8929118116493177\n",
      "K: 3, Score: 0.924588191146782\n",
      "K: 4, Score: 0.9400688309800483\n",
      "K: 5, Score: 0.9249603970104449\n",
      "K: 6, Score: 0.8726008873732373\n",
      "K: 7, Score: 0.8726008873732373\n",
      "K: 8, Score: 0.9225944162444543\n",
      "K: 9, Score: 0.9225944162444543\n",
      "K: 10, Score: 0.8977972845967849\n",
      "K: 11, Score: 0.8977972845967849\n"
     ]
    }
   ],
   "source": [
    "for i in range(2, 12):\n",
    "    cv = cross_val_score(weather_lm, weather[[\"TMAX_1\", \"TMAX_2\", \"TMAX_3\"]], weather[\"temp_hi\"], cv=i)\n",
    "    print(\"K: \", i, \", Score: \", cv[i-1], sep = \"\")"
   ]
  },
  {
   "cell_type": "markdown",
   "metadata": {},
   "source": [
    "It seems that using k = 4 folds is the optimal amount. We'll make predictions using `cv = 4`. Doing this estimates the accuracy of our linear regresion model by splitting the data, fitting a model, and computing the score four consecutive times. Each time it does this with different splits."
   ]
  },
  {
   "cell_type": "code",
   "execution_count": 25,
   "metadata": {},
   "outputs": [
    {
     "data": {
      "image/png": "[encoded data removed]",
      "text/plain": [
       "<Figure size 432x288 with 1 Axes>"
      ]
     },
     "metadata": {},
     "output_type": "display_data"
    }
   ],
   "source": [
    "predictions = cross_val_predict(weather_lm, weather[[\"TMAX_1\", \"TMAX_2\", \"TMAX_3\"]], weather[\"temp_hi\"], cv = 4)\n",
    "plt.scatter(weather[\"temp_hi\"], predictions)\n",
    "plt.plot([65,95], [65,95], color = \"black\")\n",
    "plt.xlabel(\"True Value\")\n",
    "plt.ylabel(\"Predicted Value\")\n",
    "plt.title(\"Fit vs. Actual Scatterplot\")\n",
    "plt.show()"
   ]
  },
  {
   "cell_type": "markdown",
   "metadata": {},
   "source": [
    "The cross validation method allows us to use four times the number of points than before, since we used `cv = 4`. Again, we see that our model looks really solid. Our $R^2$ most likely benefits from the increase in data points, but they're still very concentrated around $y = x$, with no obvious outliers. "
   ]
  },
  {
   "cell_type": "code",
   "execution_count": 26,
   "metadata": {},
   "outputs": [
    {
     "data": {
      "text/plain": [
       "<AxesSubplot:ylabel='temp_hi'>"
      ]
     },
     "execution_count": 26,
     "metadata": {},
     "output_type": "execute_result"
    },
    {
     "data": {
      "image/png": "[encoded data removed]",
      "text/plain": [
       "<Figure size 432x288 with 1 Axes>"
      ]
     },
     "metadata": {},
     "output_type": "display_data"
    }
   ],
   "source": [
    "sns.residplot(x=predictions, y=weather[\"temp_hi\"], color=\"b\")"
   ]
  },
  {
   "cell_type": "markdown",
   "metadata": {},
   "source": [
    "Again, our residual vs. fit plot shows no obvious pattern, so again it seems that our predictions using cross-validation are good as well. "
   ]
  },
  {
   "cell_type": "markdown",
   "metadata": {},
   "source": [
    "## Further Steps"
   ]
  },
  {
   "cell_type": "markdown",
   "metadata": {},
   "source": [
    "- Importing more data\n",
    "    * Alternatively, figuring out a way to scrape both sites would be great. But seemingly very, very difficult for free in the case of Weather Underground and impossible for NOAA.\n",
    "- Using other techniques on our data\n",
    "    * Machine learning implementations may be overkill, but something like PCA with a larger dataset would be interesting.\n",
    "- Building out a precipitation collector\n",
    "    * See the difference in rainfall between different locations in DC\n",
    "- Finding other cities to do this in\n",
    "- Figuring out how phone predict weather at your given location"
   ]
  },
  {
   "cell_type": "markdown",
   "metadata": {},
   "source": [
    "## Sources"
   ]
  },
  {
   "cell_type": "markdown",
   "metadata": {},
   "source": [
    "\"Global Daily Summaries.\" *National Centers for Environmental Information*, NOAA National Centers for Environmental Information, 1988. gov.noaa.ncdc:C01318. \n",
    "\n",
    "\n",
    "Massaron, Luca, and Alberto Boschetti. *Regression Analysis with Python: Learn the Art of Regression Analysis with Python*. Packt Publishing Ltd., 2016. "
   ]
  }
 ],
 "metadata": {
  "kernelspec": {
   "display_name": "Python 3",
   "language": "python",
   "name": "python3"
  },
  "language_info": {
   "codemirror_mode": {
    "name": "ipython",
    "version": 3
   },
   "file_extension": ".py",
   "mimetype": "text/x-python",
   "name": "python",
   "nbconvert_exporter": "python",
   "pygments_lexer": "ipython3",
   "version": "3.8.5"
  }
 },
 "nbformat": 4,
 "nbformat_minor": 4
}
